{
 "cells": [
  {
   "cell_type": "markdown",
   "metadata": {},
   "source": [
    "# **Analyse des tendances de prix des ordinateurs portables sur eBay**"
   ]
  },
  {
   "cell_type": "markdown",
   "metadata": {},
   "source": [
    "### **Introduction**"
   ]
  },
  {
   "cell_type": "markdown",
   "metadata": {
    "slideshow": {
     "slide_type": "subslide"
    }
   },
   "source": [
    "\n",
    "Notre projet vise à étudier les tendances de consommation des utilisateurs de plateformes de e-commerce, en se concentrant sur les ordinateurs portables sur eBay. Les questions centrales de cette étude sont les suivantes :\n",
    "- Quels sont les facteurs qui influencent la demande d’un produit et, par conséquent, son prix ?\n",
    "- Comment estimer le prix d’un ordinateur en fonction de ses caractéristiques ?\n",
    "\n",
    "Pour y répondre, nous avons distingué deux types de critères :\n",
    "\n",
    "**Critères objectifs :** RAM, stockage, densité de pixels, condition de l’article.\n",
    "\n",
    "**Critères subjectifs :** marque, couleur, taille de l’écran.\n",
    "\n",
    "Nous avons trouvé le choix de la plateforme eBay pertinent dans la mesure où ce sont les utilisateurs qui fixent le prix qu'ils attribuent à leur ordinateur. Cette dynamique permet d’évaluer si les vendeurs sont objectifs dans leur valorisation du produit ou si le prix fixé est cohérent avec les caractéristiques de l’ordinateur. Grâce aux tendances observées, il devient possible de déterminer si ces prix reflètent réellement la valeur des produits.\n",
    "\n",
    "Afin d’analyser ces influences, nous avons choisi de modéliser la relation entre les caractéristiques des produits et leur prix à l’aide d’une régression linéaire. Cette approche permet de quantifier l’impact de chaque critère sur le prix des ordinateurs portables. Nous pourrons ainsi mieux comprendre comment les utilisateurs déterminent le prix de vente de leurs ordinateurs portables et savoir si certaines variables les influencent plus que d'autres. \n"
   ]
  },
  {
   "cell_type": "markdown",
   "metadata": {},
   "source": [
    "# Sommaire \n",
    "\n"
   ]
  },
  {
   "cell_type": "markdown",
   "metadata": {},
   "source": [
    "## **1. Installation**"
   ]
  },
  {
   "cell_type": "code",
   "execution_count": 1,
   "metadata": {},
   "outputs": [
    {
     "name": "stdout",
     "output_type": "stream",
     "text": [
      "Requirement already satisfied: pandas in /Library/Frameworks/Python.framework/Versions/3.12/lib/python3.12/site-packages (from -r requirements.txt (line 1)) (2.2.3)\n",
      "Requirement already satisfied: requests in /Library/Frameworks/Python.framework/Versions/3.12/lib/python3.12/site-packages (from -r requirements.txt (line 2)) (2.32.3)\n",
      "Requirement already satisfied: beautifulsoup4 in /Library/Frameworks/Python.framework/Versions/3.12/lib/python3.12/site-packages (from -r requirements.txt (line 3)) (4.12.3)\n",
      "Requirement already satisfied: matplotlib in /Library/Frameworks/Python.framework/Versions/3.12/lib/python3.12/site-packages (from -r requirements.txt (line 4)) (3.8.2)\n",
      "Requirement already satisfied: seaborn in /Library/Frameworks/Python.framework/Versions/3.12/lib/python3.12/site-packages (from -r requirements.txt (line 5)) (0.13.2)\n",
      "Requirement already satisfied: numpy in /Library/Frameworks/Python.framework/Versions/3.12/lib/python3.12/site-packages (from -r requirements.txt (line 6)) (1.26.4)\n",
      "Requirement already satisfied: python-dateutil>=2.8.2 in /Library/Frameworks/Python.framework/Versions/3.12/lib/python3.12/site-packages (from pandas->-r requirements.txt (line 1)) (2.8.2)\n",
      "Requirement already satisfied: pytz>=2020.1 in /Library/Frameworks/Python.framework/Versions/3.12/lib/python3.12/site-packages (from pandas->-r requirements.txt (line 1)) (2024.2)\n",
      "Requirement already satisfied: tzdata>=2022.7 in /Library/Frameworks/Python.framework/Versions/3.12/lib/python3.12/site-packages (from pandas->-r requirements.txt (line 1)) (2024.2)\n",
      "Requirement already satisfied: charset-normalizer<4,>=2 in /Library/Frameworks/Python.framework/Versions/3.12/lib/python3.12/site-packages (from requests->-r requirements.txt (line 2)) (3.4.0)\n",
      "Requirement already satisfied: idna<4,>=2.5 in /Library/Frameworks/Python.framework/Versions/3.12/lib/python3.12/site-packages (from requests->-r requirements.txt (line 2)) (3.10)\n",
      "Requirement already satisfied: urllib3<3,>=1.21.1 in /Library/Frameworks/Python.framework/Versions/3.12/lib/python3.12/site-packages (from requests->-r requirements.txt (line 2)) (2.2.3)\n",
      "Requirement already satisfied: certifi>=2017.4.17 in /Library/Frameworks/Python.framework/Versions/3.12/lib/python3.12/site-packages (from requests->-r requirements.txt (line 2)) (2023.11.17)\n",
      "Requirement already satisfied: soupsieve>1.2 in /Library/Frameworks/Python.framework/Versions/3.12/lib/python3.12/site-packages (from beautifulsoup4->-r requirements.txt (line 3)) (2.6)\n",
      "Requirement already satisfied: contourpy>=1.0.1 in /Library/Frameworks/Python.framework/Versions/3.12/lib/python3.12/site-packages (from matplotlib->-r requirements.txt (line 4)) (1.2.0)\n",
      "Requirement already satisfied: cycler>=0.10 in /Library/Frameworks/Python.framework/Versions/3.12/lib/python3.12/site-packages (from matplotlib->-r requirements.txt (line 4)) (0.12.1)\n",
      "Requirement already satisfied: fonttools>=4.22.0 in /Library/Frameworks/Python.framework/Versions/3.12/lib/python3.12/site-packages (from matplotlib->-r requirements.txt (line 4)) (4.48.1)\n",
      "Requirement already satisfied: kiwisolver>=1.3.1 in /Library/Frameworks/Python.framework/Versions/3.12/lib/python3.12/site-packages (from matplotlib->-r requirements.txt (line 4)) (1.4.5)\n",
      "Requirement already satisfied: packaging>=20.0 in /Library/Frameworks/Python.framework/Versions/3.12/lib/python3.12/site-packages (from matplotlib->-r requirements.txt (line 4)) (23.2)\n",
      "Requirement already satisfied: pillow>=8 in /Library/Frameworks/Python.framework/Versions/3.12/lib/python3.12/site-packages (from matplotlib->-r requirements.txt (line 4)) (10.2.0)\n",
      "Requirement already satisfied: pyparsing>=2.3.1 in /Library/Frameworks/Python.framework/Versions/3.12/lib/python3.12/site-packages (from matplotlib->-r requirements.txt (line 4)) (3.1.1)\n",
      "Requirement already satisfied: six>=1.5 in /Library/Frameworks/Python.framework/Versions/3.12/lib/python3.12/site-packages (from python-dateutil>=2.8.2->pandas->-r requirements.txt (line 1)) (1.16.0)\n",
      "Note: you may need to restart the kernel to use updated packages.\n"
     ]
    }
   ],
   "source": [
    "%pip install -r requirements.txt"
   ]
  },
  {
   "cell_type": "code",
   "execution_count": 2,
   "metadata": {},
   "outputs": [],
   "source": [
    "import pandas as pd\n",
    "import numpy as np\n",
    "import matplotlib.pyplot as plt\n",
    "import seaborn as sns"
   ]
  },
  {
   "cell_type": "markdown",
   "metadata": {},
   "source": [
    "## **2. Chargement des données dans le projet**"
   ]
  },
  {
   "cell_type": "markdown",
   "metadata": {},
   "source": [
    "### **2.1 Données eBay**"
   ]
  },
  {
   "cell_type": "markdown",
   "metadata": {
    "slideshow": {
     "slide_type": "subslide"
    }
   },
   "source": [
    "En raison du temps de réponse élevé de l’API et du nombre d'appels à l'API limité à 4500 par jour, nous avons préféré exécuter les requêtes en amont et sauvegarder les données dans un fichier CSV. Cette démarche a pour objectif de faciliter l’analyse en évitant les délais d’attente liés à l’API et en permettant d'avoir plus de données. \n",
    "\n",
    "Le code permettant de collecter les données est disponible sur le GitHub du projet. Ce script **data.py** situé dans le fichier **src** peut être exécuté en suivant les instructions du README pour l'accès à l'API si de nouvelles données doivent être extraites.\n",
    "\n",
    "Dans le notebook, nous nous contentons de charger le fichier CSV prégénéré pour effectuer les étapes d’analyse et de nettoyage.\n",
    "\n",
    "Cette approche permet une expérience plus fluide et garantit la reproductibilité de l’étude sans dépendre des performances de l’API au moment de l’exécution.\n",
    "\n"
   ]
  },
  {
   "cell_type": "markdown",
   "metadata": {},
   "source": [
    "### **Récupération des données**"
   ]
  },
  {
   "cell_type": "markdown",
   "metadata": {
    "slideshow": {
     "slide_type": "subslide"
    }
   },
   "source": [
    "Pour collecter les données nécessaires à notre étude, nous avons utilisé l’API Browse d’eBay. Ce choix s’explique par la richesse des informations disponibles sur cette plateforme et son large catalogue de produits. Cependant, cela a requis plusieurs étapes préparatoires :\n",
    "\n",
    "1. **Choix d'un segment spécifique :** Pour limiter la variabilité des données, nous avons choisi de nous concentrer sur les ordinateurs portables. Ce segment présente de nombreuses spécificités (RAM, stockage, écran, etc.) qui permettent d’étudier l’impact de chaque critère sur le prix.\n",
    "\n",
    "2. **Délimitation du marché :** Nous avons choisi de nous focaliser sur le marché français. Cette décision a pour but d’éviter les biais liés à des contextes géopolitiques différents entre les marchés ou à des devises différentes. \n",
    "\n",
    "3. **Extraction des données :**\n",
    "Les informations classiques comme le prix et l’état des articles sont directement accessibles via l’API Browse pour chaque item.\n",
    "Les caractéristiques plus précises (RAM, marque, stockage, taille de l’écran) sont stockées dans une sous-catégorie nommée localized aspects. Ces informations sont organisées sous forme de dictionnaire (clé/valeur).\n",
    "\n",
    "4. **Gestion des données manquantes :**\n",
    "Comme les utilisateurs remplissent eux-mêmes les informations, certaines données sont parfois absentes. \n",
    "Plusieurs approches ont été envisagées :\n",
    "- Exclure les articles avec des données manquantes, en raison du volume important de données disponibles.\n",
    "- Conserver les articles incomplets pour ne pas réduire excessivement l’échantillon.\n",
    "\n",
    "Afin de ne pas trop réduire l'échantillon ou de compromettre la fiabilité de l'étude nous avons choisi de conserver les articles ayant obligatoirement les informations suivantes : prix, capacité de stockage, RAM et marque. Toutefois, si des données telles que la taille de l'écran, la résolution ou encore la date de publication ne sont pas présentes il ne nous semblait pas pertinent d'enlever ces ordinateurs portables puisque cela ne compromet pas le résultat de notre étude et nous permet d'avoir un échantillon plus important."
   ]
  },
  {
   "cell_type": "code",
   "execution_count": 31,
   "metadata": {},
   "outputs": [],
   "source": [
    "from src.utils import load_data\n",
    "\n",
    "ordi_csv = \"data3.csv\"\n",
    "df = load_data(ordi_csv)"
   ]
  },
  {
   "cell_type": "markdown",
   "metadata": {},
   "source": [
    "### **2.2 Données issues de scrapping**"
   ]
  },
  {
   "cell_type": "markdown",
   "metadata": {},
   "source": [
    "## **3. Nettoyage des données**"
   ]
  },
  {
   "cell_type": "markdown",
   "metadata": {},
   "source": [
    "Comme évoqué plus tôt, la particularité des données récoltées est qu'elles ont été entrées par les vendeurs eux-mêmes via la plateforme. Ainsi, si le nom de la catégorie (ex: 'RAM', 'Stockage') est le même pour chaque produit, les informations contenues dans chaque colonne différent dans leur format. Par défaut, toutes les données sont de type \"object\" ce qui ne les rend pas exploitable directement pour nous. Le travail de nettoyage est ainsi essentiel afin d'avancer sur notre projet.  "
   ]
  },
  {
   "cell_type": "markdown",
   "metadata": {},
   "source": [
    "1) **Nettoyage des données chiffrées**\n",
    "\n",
    "Pour cela, nous avons créé une fonction **extract_float_from_object** au sein du fichier **utils.py** qui permet d'extraire un nombre de type float à partir d'une chaîne de caractère. Nous pouvons appliquer cette fonction directement pour la catégorie 'Taille écran'."
   ]
  },
  {
   "cell_type": "code",
   "execution_count": 33,
   "metadata": {},
   "outputs": [],
   "source": [
    "from src.utils import extract_float_from_object, extract_storage\n",
    "\n",
    "df['Taille écran'] = df['Taille écran'].apply(extract_float_from_object)"
   ]
  },
  {
   "cell_type": "markdown",
   "metadata": {},
   "source": [
    "Pour gérer les catégories liées au stockage dont les données étaient soit rentrées en Go, soit en To, nous avons créé une seconde fonction dérivée de la première, mais qui effectue la conversion en Go pour les données entrées en To, selon la formule **1To = 1024Go**."
   ]
  },
  {
   "cell_type": "code",
   "execution_count": 34,
   "metadata": {},
   "outputs": [],
   "source": [
    "df['RAM'] = df['RAM'].apply(extract_storage)\n",
    "df['Stockage'] = df['Stockage'].apply(extract_storage)"
   ]
  },
  {
   "cell_type": "markdown",
   "metadata": {},
   "source": [
    "Ensuite, pour gérer la colonne résolution dont le format est le suivant : **Largeur x Hauteur'**, nous avons choisi de combiner cette information avec la taille de l'écran pour établir une mesure comparable entre tous les ordinateurs du data frame : la densité de pixels (PPI).\n",
    "\n",
    "$$\n",
    "Densité\\ de\\ pixels = \\frac{\\sqrt{\\text{largeur}^2 + \\text{hauteur}^2}}{\\text{taille de l'écran en pouces}}\n",
    "$$\n",
    "\n",
    "On commence par extraire la largeur et la hauteur dans deux nouvelles colonnes, et on utilise ensuite la formule ci-dessus pour créer la colonne **PPI** que l'on conservera."
   ]
  },
  {
   "cell_type": "code",
   "execution_count": 35,
   "metadata": {},
   "outputs": [],
   "source": [
    "#Extraction de la résolution dans deux nouvelles colonnes\n",
    "df[['Largeur', 'Hauteur']] = df['Résolution'].str.extract(r'(\\d+)[\\s]*[xX][\\s]*(\\d+)', expand=True)\n",
    "df[['Largeur', 'Hauteur']] = df[['Largeur', 'Hauteur']].apply(pd.to_numeric, errors='coerce')\n",
    "\n",
    "#Calcul du PPI\n",
    "df['Taille écran'] = df['Taille écran'].apply(extract_float_from_object)\n",
    "df[['Largeur', 'Hauteur', 'Taille écran']] = df[['Largeur', 'Hauteur', 'Taille écran']].replace(0, np.nan)\n",
    "# On calcule le PPI uniquement pour les lignes où toutes les valeurs nécessaires sont présentes\n",
    "mask = df[['Largeur', 'Hauteur', 'Taille écran']].notnull().all(axis=1)\n",
    "df.loc[mask, 'PPI'] = np.round(np.sqrt(df.loc[mask, 'Largeur']**2 + df.loc[mask, 'Hauteur']**2) / df.loc[mask, 'Taille écran'])"
   ]
  },
  {
   "cell_type": "markdown",
   "metadata": {},
   "source": [
    "2. **Nettoyage des données temporelles**\n",
    "\n",
    "Cela concerne uniquement la colonne **Date de publication**. Ici, le format est idéal car c'est une information qui nous est fournie directement par eBay. On utilise alors la fonction intégrée à pandas **pd.to_datetime()**"
   ]
  },
  {
   "cell_type": "code",
   "execution_count": 36,
   "metadata": {},
   "outputs": [],
   "source": [
    "df['Date de publication'] = pd.to_datetime(df['Date de publication'], errors='coerce')"
   ]
  },
  {
   "cell_type": "markdown",
   "metadata": {},
   "source": [
    "3. **Nettoyage des données textuelles**\n",
    "\n",
    "Cela concerne les colonnes **Condition**, **Marque** et **Couleur**. Ici, l'enjeu est d'uniformiser les données afin de rassembler toutes les données identiques de fait mais rentrées différemment par les utilisateurs. "
   ]
  },
  {
   "cell_type": "code",
   "execution_count": 37,
   "metadata": {},
   "outputs": [],
   "source": [
    "#Normalisation des couleurs\n",
    "def normalize_color(color):\n",
    "    if isinstance(color, str):\n",
    "        color = color.lower()\n",
    "        if 'gris' in color or 'silver' in color or 'argent' in color or 'argenté' in color or 'grey' in color and 'graphite' in color:\n",
    "            return 'gris'\n",
    "        elif 'noir' in color or 'black' in color:\n",
    "            return 'noir'\n",
    "        elif 'blanc' in color or 'white' in color:\n",
    "            return 'blanc'\n",
    "        elif 'bleu' in color or 'midnight' in color or 'blue' in color:\n",
    "            return 'bleu'\n",
    "        elif 'rouge' in color or 'red' in color:\n",
    "            return 'rouge'\n",
    "        elif 'vert' in color or 'green' in color:\n",
    "            return 'vert'\n",
    "        elif 'jaune' in color or 'yellow' in color:\n",
    "            return 'jaune'\n",
    "        elif 'rose' in color or 'pink' in color:\n",
    "            return 'rose'\n",
    "        elif 'marron' in color or 'brown' in color:\n",
    "            return 'marron'\n",
    "        elif 'violet' in color or 'purple' in color:\n",
    "            return 'violet'\n",
    "    return \"autre\"\n",
    "\n",
    "df['Couleur'] = df['Couleur'].apply(normalize_color)\n",
    "\n",
    "#Normalisation des conditions \n",
    "def convertir_condition(condition):\n",
    "    \"\"\" \n",
    "    Crée une classification des conditions des produits du meilleur au pire\n",
    "    \"\"\"\n",
    "    if \"Neuf\" in condition:\n",
    "        return \"Neuf\"\n",
    "    elif \"Ouvert (jamais utilisé)\" in condition:\n",
    "        return \"Ouvert\"\n",
    "    elif 'Parfait état - Reconditionné' in condition: \n",
    "        return \"Parfait état\"\n",
    "    elif 'Très bon état - Reconditionné' in condition:\n",
    "        return \"Très bon état\"\n",
    "    elif 'État correct - Reconditionné' in condition:\n",
    "        return \"État correct\"\n",
    "    elif 'Occasion' in condition: \n",
    "        return \"Occasion\"\n",
    "    \n",
    "df['Condition'] = df['Condition'].apply(convertir_condition)\n",
    "\n",
    "#Normalisation des marques\n",
    "def format_marque(marque):\n",
    "    if isinstance(marque, str):\n",
    "        marque = marque.lower()\n",
    "        if any(substring in marque for substring in ['carte graphique', 'nvidia']):\n",
    "            return np.nan #Ici, on élimine également les lignes qui ne correspondent \n",
    "                          #pas à des ordinateurs portables, rentrées par erreur\n",
    "        elif 'apple' in marque or 'macbook' in marque:\n",
    "            return 'Apple'\n",
    "        elif 'dell' in marque or 'del' in marque:\n",
    "            return 'Dell'\n",
    "        elif 'hp' in marque:\n",
    "            return 'HP'\n",
    "        elif 'lenovo' in marque:\n",
    "            return 'Lenovo'\n",
    "        elif 'asus' in marque:\n",
    "            return 'Asus'\n",
    "        elif 'acer' in marque:\n",
    "            return 'Acer'\n",
    "        elif 'samsung' in marque:\n",
    "            return 'Samsung'\n",
    "        elif 'sony' in marque:\n",
    "            return 'Sony'\n",
    "        elif 'toshiba' in marque:\n",
    "            return 'Toshiba'\n",
    "        elif 'huawei' in marque:\n",
    "            return 'Huawei'\n",
    "        elif 'msi' in marque:\n",
    "            return 'MSI'\n",
    "        elif 'panasonic' in marque:\n",
    "            return 'Panasonic'\n",
    "        elif 'microsoft' in marque:\n",
    "            return 'Microsoft'\n",
    "        elif 'lg' in marque:\n",
    "            return 'LG'\n",
    "        elif 'google' in marque:\n",
    "            return 'Google'\n",
    "        elif 'alienware' in marque:\n",
    "            return 'Alienware'\n",
    "        elif 'razer' in marque:\n",
    "            return 'Razer'\n",
    "        elif 'gigabyte' in marque:\n",
    "            return 'Gigabyte'\n",
    "        elif 'clevo' in marque:\n",
    "            return 'Clevo'\n",
    "        elif 'fujitsu' in marque:\n",
    "            return 'Fujitsu'\n",
    "        elif 'medion' in marque:\n",
    "            return 'Medion'\n",
    "        elif 'xmg' in marque:\n",
    "            return 'XMG'\n",
    "        elif 'chuwi' in marque:\n",
    "            return 'Chuwi'\n",
    "        elif 'jumper' in marque:\n",
    "            return 'Jumper'\n",
    "        elif 'teclast' in marque:\n",
    "            return 'Teclast'\n",
    "        elif 'voyo' in marque:\n",
    "            return 'Voyo'\n",
    "        elif 'bmax' in marque:\n",
    "            return 'BMAX'\n",
    "        elif 'one-netbook' in marque:\n",
    "            return 'One-Netbook'\n",
    "        elif 'gpd' in marque:\n",
    "            return 'GPD'\n",
    "        elif 'tuxedo' in marque:\n",
    "            return 'Tuxedo'\n",
    "        elif 'system76' in marque:\n",
    "            return 'System76'\n",
    "        elif 'purism' in marque:\n",
    "            return 'Purism'\n",
    "        elif 'pine64' in marque:\n",
    "            return 'Pine64'\n",
    "        elif 'minisforum' in marque:\n",
    "            return 'Minisforum'\n",
    "        elif 'azulle' in marque:\n",
    "            return 'Azulle'\n",
    "        elif 'beelink' in marque:\n",
    "            return 'Beelink'\n",
    "        elif 'meego' in marque:\n",
    "            return 'Meego'\n",
    "        elif 'vorke' in marque:\n",
    "            return 'Vorke'\n",
    "        elif 'trigkey' in marque:\n",
    "            return 'Trigkey'\n",
    "        elif 'acepc' in marque:\n",
    "            return 'ACEPC'\n",
    "        elif 'awow' in marque:\n",
    "            return 'AWOW'\n",
    "        elif 'niuniutab' in marque:\n",
    "            return 'Niuniutab'\n",
    "        else:\n",
    "            return np.nan\n",
    "    return np.nan\n",
    "\n",
    "\n",
    "df['Marque'] = df['Marque'].apply(format_marque)\n",
    "df = df.dropna(subset=['Marque'])\n"
   ]
  },
  {
   "cell_type": "markdown",
   "metadata": {},
   "source": [
    "On se débarasse des colonnes qui nous seront inutiles pour la suite\n"
   ]
  },
  {
   "cell_type": "code",
   "execution_count": 38,
   "metadata": {},
   "outputs": [],
   "source": [
    "df = df.drop(['Largeur', 'Hauteur', 'Résolution'], axis=1)\n",
    "#la colonne résolution est remplacée par la colonne PPI qui compile taille de l'écran et résolution"
   ]
  },
  {
   "cell_type": "markdown",
   "metadata": {},
   "source": [
    "Pour obtenir notre data frame final, il reste encore à gérer les valeurs aberrantes qui sont assez fréquentes du fait des erreurs ou mauvais choix des utilisateurs eBay.\n",
    "\n",
    "4. **Gestion des valeurs aberrantes**\n",
    "\n",
    "Un bon outil pour repérer les valeurs aberrantes est la boîte à moustache qui nous donne une vision claire de la répartition des données pour chaque catégorie. On peut la générer pour chaque colonne grâce à la fonction suivante:"
   ]
  },
  {
   "cell_type": "code",
   "execution_count": 39,
   "metadata": {},
   "outputs": [
    {
     "data": {
      "image/png": "[encoded data removed]",
      "text/plain": [
       "<Figure size 1000x600 with 1 Axes>"
      ]
     },
     "metadata": {},
     "output_type": "display_data"
    }
   ],
   "source": [
    "def boxplot(df, column_name):\n",
    "    plt.figure(figsize=(10, 6))\n",
    "    sns.boxplot(x=df[column_name])\n",
    "    plt.title(f'Boxplot of {column_name}')\n",
    "    plt.xlabel(column_name)\n",
    "    plt.show()\n",
    "\n",
    "boxplot(df, 'Prix')\n",
    "#boxplot(df, 'Stockage')\n",
    "#boxplot(df, 'RAM')\n",
    "#boxplot(df, 'PPI')\n",
    "#boxplot(df, 'Taille écran')"
   ]
  },
  {
   "cell_type": "markdown",
   "metadata": {},
   "source": [
    "Grâce à ces boites à moustache ainsi qu'un peu de logique, on établit une plage cohérente pour chaque colonne. Toute donnée à l'extérieur de ces plages est considérée comme \"aberrante\" et est gérée en fonction. \n",
    "\n",
    "**Caractéristiques des plages** :\n",
    "\n",
    "- **Plage des prix** : $[50\\ € ;\\ 3000\\ €]$\n",
    "- **Plage de la densité de pixels** : $[80\\ \\text{PPI} ;\\ 300\\ \\text{PPI}]$\n",
    "- **Plage de la capacité de stockage** : $[32\\ \\text{Go} ;\\ 4000\\ \\text{Go}]$\n",
    "- **Plage de la capacité de RAM** : $[2\\ \\text{Go} ;\\ 64\\ \\text{Go}]$\n",
    "- **Plage de la taille d’écran** : $[6'' ;\\ 20'']$\n"
   ]
  },
  {
   "cell_type": "code",
   "execution_count": 40,
   "metadata": {},
   "outputs": [
    {
     "data": {
      "image/png": "[encoded data removed]",
      "text/plain": [
       "<Figure size 1000x600 with 1 Axes>"
      ]
     },
     "metadata": {},
     "output_type": "display_data"
    }
   ],
   "source": [
    "df = df[(df['Prix'] >= 50) & (df['Prix'] <= 3000)]  \n",
    "df.loc[(df['PPI'] > 300) | (df['PPI'] < 80), 'PPI'] = np.nan\n",
    "# énormément de gens se trompent en mettant la même valeur pour la RAM et le stockage\n",
    "df.loc[(df['Stockage'] < 32) | (df['Stockage'] > 4000), 'Stockage'] = np.nan  \n",
    "df.loc[(df['RAM'] < 2) | (df['RAM'] > 64), 'RAM'] = np.nan  \n",
    "df.loc[(df['Taille écran'] < 6) | (df['Taille écran'] > 20), 'Taille écran'] = np.nan  \n",
    "\n",
    "boxplot(df, 'Prix')\n"
   ]
  },
  {
   "cell_type": "markdown",
   "metadata": {},
   "source": [
    "Etant donné que l'on cherche à estimer le prix, on a décidé de supprimer les lignes où les prix étaient aberrants. Pour les autres variables, on a décidé de les remplacer par des **NaN** pour les exclure de la visualisation sans se priver de l'information que nous apporte les autres données de cet ordinateur.\n",
    "\n",
    "Notre data frame est à présent nettoyé, nous allons pouvoir commencer à l'analyser."
   ]
  },
  {
   "cell_type": "code",
   "execution_count": 41,
   "metadata": {},
   "outputs": [
    {
     "data": {
      "text/html": [
       "<div>\n",
       "<style scoped>\n",
       "    .dataframe tbody tr th:only-of-type {\n",
       "        vertical-align: middle;\n",
       "    }\n",
       "\n",
       "    .dataframe tbody tr th {\n",
       "        vertical-align: top;\n",
       "    }\n",
       "\n",
       "    .dataframe thead th {\n",
       "        text-align: right;\n",
       "    }\n",
       "</style>\n",
       "<table border=\"1\" class=\"dataframe\">\n",
       "  <thead>\n",
       "    <tr style=\"text-align: right;\">\n",
       "      <th></th>\n",
       "      <th>ID</th>\n",
       "      <th>Prix</th>\n",
       "      <th>Condition</th>\n",
       "      <th>RAM</th>\n",
       "      <th>Stockage</th>\n",
       "      <th>Marque</th>\n",
       "      <th>Couleur</th>\n",
       "      <th>Taille écran</th>\n",
       "      <th>Date de publication</th>\n",
       "      <th>Rang</th>\n",
       "      <th>PPI</th>\n",
       "    </tr>\n",
       "  </thead>\n",
       "  <tbody>\n",
       "    <tr>\n",
       "      <th>0</th>\n",
       "      <td>v1|176737201854|0</td>\n",
       "      <td>1680.0</td>\n",
       "      <td>Occasion</td>\n",
       "      <td>16.0</td>\n",
       "      <td>NaN</td>\n",
       "      <td>Asus</td>\n",
       "      <td>autre</td>\n",
       "      <td>13.4</td>\n",
       "      <td>2024-12-15 17:33:06+00:00</td>\n",
       "      <td>5.0</td>\n",
       "      <td>NaN</td>\n",
       "    </tr>\n",
       "    <tr>\n",
       "      <th>1</th>\n",
       "      <td>v1|375863586836|0</td>\n",
       "      <td>550.0</td>\n",
       "      <td>Occasion</td>\n",
       "      <td>8.0</td>\n",
       "      <td>256.0</td>\n",
       "      <td>Apple</td>\n",
       "      <td>gris</td>\n",
       "      <td>13.0</td>\n",
       "      <td>2024-12-13 08:42:48+00:00</td>\n",
       "      <td>1.0</td>\n",
       "      <td>232.0</td>\n",
       "    </tr>\n",
       "    <tr>\n",
       "      <th>2</th>\n",
       "      <td>v1|146269671817|0</td>\n",
       "      <td>120.0</td>\n",
       "      <td>Occasion</td>\n",
       "      <td>6.0</td>\n",
       "      <td>700.0</td>\n",
       "      <td>Asus</td>\n",
       "      <td>rouge</td>\n",
       "      <td>15.6</td>\n",
       "      <td>2024-12-15 11:51:11+00:00</td>\n",
       "      <td>5.0</td>\n",
       "      <td>NaN</td>\n",
       "    </tr>\n",
       "    <tr>\n",
       "      <th>3</th>\n",
       "      <td>v1|196898961056|0</td>\n",
       "      <td>89.9</td>\n",
       "      <td>Occasion</td>\n",
       "      <td>8.0</td>\n",
       "      <td>480.0</td>\n",
       "      <td>HP</td>\n",
       "      <td>autre</td>\n",
       "      <td>17.3</td>\n",
       "      <td>2024-12-17 16:37:02+00:00</td>\n",
       "      <td>3.0</td>\n",
       "      <td>NaN</td>\n",
       "    </tr>\n",
       "    <tr>\n",
       "      <th>4</th>\n",
       "      <td>v1|365291982473|0</td>\n",
       "      <td>1300.0</td>\n",
       "      <td>Occasion</td>\n",
       "      <td>16.0</td>\n",
       "      <td>256.0</td>\n",
       "      <td>Dell</td>\n",
       "      <td>noir</td>\n",
       "      <td>13.0</td>\n",
       "      <td>2024-12-17 16:57:08+00:00</td>\n",
       "      <td>7.0</td>\n",
       "      <td>169.0</td>\n",
       "    </tr>\n",
       "    <tr>\n",
       "      <th>5</th>\n",
       "      <td>v1|235873614482|0</td>\n",
       "      <td>75.0</td>\n",
       "      <td>Occasion</td>\n",
       "      <td>4.0</td>\n",
       "      <td>64.0</td>\n",
       "      <td>HP</td>\n",
       "      <td>blanc</td>\n",
       "      <td>14.1</td>\n",
       "      <td>2024-12-16 18:07:16+00:00</td>\n",
       "      <td>3.0</td>\n",
       "      <td>111.0</td>\n",
       "    </tr>\n",
       "    <tr>\n",
       "      <th>6</th>\n",
       "      <td>v1|226501515887|0</td>\n",
       "      <td>230.0</td>\n",
       "      <td>Occasion</td>\n",
       "      <td>8.0</td>\n",
       "      <td>128.0</td>\n",
       "      <td>Asus</td>\n",
       "      <td>autre</td>\n",
       "      <td>14.0</td>\n",
       "      <td>2024-12-17 21:45:30+00:00</td>\n",
       "      <td>5.0</td>\n",
       "      <td>NaN</td>\n",
       "    </tr>\n",
       "    <tr>\n",
       "      <th>7</th>\n",
       "      <td>v1|326373954761|0</td>\n",
       "      <td>340.0</td>\n",
       "      <td>Ouvert</td>\n",
       "      <td>16.0</td>\n",
       "      <td>256.0</td>\n",
       "      <td>Dell</td>\n",
       "      <td>gris</td>\n",
       "      <td>14.0</td>\n",
       "      <td>2024-12-16 19:12:19+00:00</td>\n",
       "      <td>7.0</td>\n",
       "      <td>157.0</td>\n",
       "    </tr>\n",
       "    <tr>\n",
       "      <th>9</th>\n",
       "      <td>v1|196734278702|0</td>\n",
       "      <td>169.0</td>\n",
       "      <td>Très bon état</td>\n",
       "      <td>8.0</td>\n",
       "      <td>620.0</td>\n",
       "      <td>Panasonic</td>\n",
       "      <td>noir</td>\n",
       "      <td>12.0</td>\n",
       "      <td>2024-10-19 09:22:26+00:00</td>\n",
       "      <td>6.0</td>\n",
       "      <td>NaN</td>\n",
       "    </tr>\n",
       "    <tr>\n",
       "      <th>10</th>\n",
       "      <td>v1|286214085403|0</td>\n",
       "      <td>80.0</td>\n",
       "      <td>Occasion</td>\n",
       "      <td>8.0</td>\n",
       "      <td>256.0</td>\n",
       "      <td>Lenovo</td>\n",
       "      <td>noir</td>\n",
       "      <td>14.0</td>\n",
       "      <td>2024-12-13 23:59:37+00:00</td>\n",
       "      <td>7.0</td>\n",
       "      <td>NaN</td>\n",
       "    </tr>\n",
       "  </tbody>\n",
       "</table>\n",
       "</div>"
      ],
      "text/plain": [
       "                   ID    Prix      Condition   RAM  Stockage     Marque  \\\n",
       "0   v1|176737201854|0  1680.0       Occasion  16.0       NaN       Asus   \n",
       "1   v1|375863586836|0   550.0       Occasion   8.0     256.0      Apple   \n",
       "2   v1|146269671817|0   120.0       Occasion   6.0     700.0       Asus   \n",
       "3   v1|196898961056|0    89.9       Occasion   8.0     480.0         HP   \n",
       "4   v1|365291982473|0  1300.0       Occasion  16.0     256.0       Dell   \n",
       "5   v1|235873614482|0    75.0       Occasion   4.0      64.0         HP   \n",
       "6   v1|226501515887|0   230.0       Occasion   8.0     128.0       Asus   \n",
       "7   v1|326373954761|0   340.0         Ouvert  16.0     256.0       Dell   \n",
       "9   v1|196734278702|0   169.0  Très bon état   8.0     620.0  Panasonic   \n",
       "10  v1|286214085403|0    80.0       Occasion   8.0     256.0     Lenovo   \n",
       "\n",
       "   Couleur  Taille écran       Date de publication  Rang    PPI  \n",
       "0    autre          13.4 2024-12-15 17:33:06+00:00   5.0    NaN  \n",
       "1     gris          13.0 2024-12-13 08:42:48+00:00   1.0  232.0  \n",
       "2    rouge          15.6 2024-12-15 11:51:11+00:00   5.0    NaN  \n",
       "3    autre          17.3 2024-12-17 16:37:02+00:00   3.0    NaN  \n",
       "4     noir          13.0 2024-12-17 16:57:08+00:00   7.0  169.0  \n",
       "5    blanc          14.1 2024-12-16 18:07:16+00:00   3.0  111.0  \n",
       "6    autre          14.0 2024-12-17 21:45:30+00:00   5.0    NaN  \n",
       "7     gris          14.0 2024-12-16 19:12:19+00:00   7.0  157.0  \n",
       "9     noir          12.0 2024-10-19 09:22:26+00:00   6.0    NaN  \n",
       "10    noir          14.0 2024-12-13 23:59:37+00:00   7.0    NaN  "
      ]
     },
     "execution_count": 41,
     "metadata": {},
     "output_type": "execute_result"
    }
   ],
   "source": [
    "df.head(10)"
   ]
  },
  {
   "cell_type": "markdown",
   "metadata": {},
   "source": [
    "## **4. Visualisation**"
   ]
  },
  {
   "cell_type": "code",
   "execution_count": 42,
   "metadata": {},
   "outputs": [
    {
     "name": "stdout",
     "output_type": "stream",
     "text": [
      "<class 'pandas.core.frame.DataFrame'>\n",
      "Index: 4036 entries, 0 to 4299\n",
      "Data columns (total 11 columns):\n",
      " #   Column               Non-Null Count  Dtype              \n",
      "---  ------               --------------  -----              \n",
      " 0   ID                   4036 non-null   object             \n",
      " 1   Prix                 4036 non-null   float64            \n",
      " 2   Condition            4033 non-null   object             \n",
      " 3   RAM                  3805 non-null   float64            \n",
      " 4   Stockage             3695 non-null   float64            \n",
      " 5   Marque               4036 non-null   object             \n",
      " 6   Couleur              4036 non-null   object             \n",
      " 7   Taille écran         3707 non-null   float64            \n",
      " 8   Date de publication  4036 non-null   datetime64[ns, UTC]\n",
      " 9   Rang                 3189 non-null   float64            \n",
      " 10  PPI                  2110 non-null   float64            \n",
      "dtypes: datetime64[ns, UTC](1), float64(6), object(4)\n",
      "memory usage: 378.4+ KB\n"
     ]
    }
   ],
   "source": [
    "df.info()"
   ]
  },
  {
   "cell_type": "markdown",
   "metadata": {},
   "source": [
    "On remarque que beaucoup de valeurs sont manquantes pour la densité de pixels. Nous considérons cependant que le nombre d'observations demeure assez élevé pour identifier son effet sur les prix. \n",
    "De manière générale, nous faisons l'hypothèse que les valeurs manquantes ne reflète pas un biais car elles sont issues des informations entrées par les vendeurs indépendants qui peuvent vendre n'importe quel type d'ordinateurs. "
   ]
  },
  {
   "cell_type": "code",
   "execution_count": 30,
   "metadata": {},
   "outputs": [
    {
     "data": {
      "text/html": [
       "<div>\n",
       "<style scoped>\n",
       "    .dataframe tbody tr th:only-of-type {\n",
       "        vertical-align: middle;\n",
       "    }\n",
       "\n",
       "    .dataframe tbody tr th {\n",
       "        vertical-align: top;\n",
       "    }\n",
       "\n",
       "    .dataframe thead th {\n",
       "        text-align: right;\n",
       "    }\n",
       "</style>\n",
       "<table border=\"1\" class=\"dataframe\">\n",
       "  <thead>\n",
       "    <tr style=\"text-align: right;\">\n",
       "      <th></th>\n",
       "      <th>Prix</th>\n",
       "      <th>RAM</th>\n",
       "      <th>Stockage</th>\n",
       "      <th>Taille écran</th>\n",
       "      <th>Rang</th>\n",
       "      <th>PPI</th>\n",
       "    </tr>\n",
       "  </thead>\n",
       "  <tbody>\n",
       "    <tr>\n",
       "      <th>count</th>\n",
       "      <td>4036.000000</td>\n",
       "      <td>3805.000000</td>\n",
       "      <td>3695.000000</td>\n",
       "      <td>3707.000000</td>\n",
       "      <td>3189.000000</td>\n",
       "      <td>2110.000000</td>\n",
       "    </tr>\n",
       "    <tr>\n",
       "      <th>mean</th>\n",
       "      <td>430.723840</td>\n",
       "      <td>11.170039</td>\n",
       "      <td>409.686084</td>\n",
       "      <td>14.289161</td>\n",
       "      <td>4.182189</td>\n",
       "      <td>147.698104</td>\n",
       "    </tr>\n",
       "    <tr>\n",
       "      <th>std</th>\n",
       "      <td>464.514841</td>\n",
       "      <td>8.393969</td>\n",
       "      <td>293.168790</td>\n",
       "      <td>1.618012</td>\n",
       "      <td>2.518386</td>\n",
       "      <td>40.568522</td>\n",
       "    </tr>\n",
       "    <tr>\n",
       "      <th>min</th>\n",
       "      <td>50.000000</td>\n",
       "      <td>2.000000</td>\n",
       "      <td>32.000000</td>\n",
       "      <td>6.000000</td>\n",
       "      <td>0.000000</td>\n",
       "      <td>82.000000</td>\n",
       "    </tr>\n",
       "    <tr>\n",
       "      <th>25%</th>\n",
       "      <td>175.000000</td>\n",
       "      <td>8.000000</td>\n",
       "      <td>256.000000</td>\n",
       "      <td>13.300000</td>\n",
       "      <td>2.000000</td>\n",
       "      <td>112.000000</td>\n",
       "    </tr>\n",
       "    <tr>\n",
       "      <th>50%</th>\n",
       "      <td>277.150000</td>\n",
       "      <td>8.000000</td>\n",
       "      <td>256.000000</td>\n",
       "      <td>14.000000</td>\n",
       "      <td>5.000000</td>\n",
       "      <td>141.000000</td>\n",
       "    </tr>\n",
       "    <tr>\n",
       "      <th>75%</th>\n",
       "      <td>479.990000</td>\n",
       "      <td>16.000000</td>\n",
       "      <td>512.000000</td>\n",
       "      <td>15.600000</td>\n",
       "      <td>7.000000</td>\n",
       "      <td>157.000000</td>\n",
       "    </tr>\n",
       "    <tr>\n",
       "      <th>max</th>\n",
       "      <td>3000.000000</td>\n",
       "      <td>64.000000</td>\n",
       "      <td>2048.000000</td>\n",
       "      <td>20.000000</td>\n",
       "      <td>8.000000</td>\n",
       "      <td>294.000000</td>\n",
       "    </tr>\n",
       "  </tbody>\n",
       "</table>\n",
       "</div>"
      ],
      "text/plain": [
       "              Prix          RAM     Stockage  Taille écran         Rang  \\\n",
       "count  4036.000000  3805.000000  3695.000000   3707.000000  3189.000000   \n",
       "mean    430.723840    11.170039   409.686084     14.289161     4.182189   \n",
       "std     464.514841     8.393969   293.168790      1.618012     2.518386   \n",
       "min      50.000000     2.000000    32.000000      6.000000     0.000000   \n",
       "25%     175.000000     8.000000   256.000000     13.300000     2.000000   \n",
       "50%     277.150000     8.000000   256.000000     14.000000     5.000000   \n",
       "75%     479.990000    16.000000   512.000000     15.600000     7.000000   \n",
       "max    3000.000000    64.000000  2048.000000     20.000000     8.000000   \n",
       "\n",
       "               PPI  \n",
       "count  2110.000000  \n",
       "mean    147.698104  \n",
       "std      40.568522  \n",
       "min      82.000000  \n",
       "25%     112.000000  \n",
       "50%     141.000000  \n",
       "75%     157.000000  \n",
       "max     294.000000  "
      ]
     },
     "execution_count": 30,
     "metadata": {},
     "output_type": "execute_result"
    }
   ],
   "source": [
    "df.describe()"
   ]
  },
  {
   "cell_type": "markdown",
   "metadata": {},
   "source": [
    "Est-ce qu'on remplace les valeurs manquantes (par la médiane ou autres selon pertinence) maintenant ou après ??"
   ]
  },
  {
   "cell_type": "markdown",
   "metadata": {},
   "source": [
    "Nous pouvons pour commencer analyser les distributions de prix. Nous faisons pour cela appel aux fonctions situées dans le fichier **analyse.py**"
   ]
  },
  {
   "cell_type": "code",
   "execution_count": 50,
   "metadata": {},
   "outputs": [
    {
     "data": {
      "image/png": "[encoded data removed]",
      "text/plain": [
       "<Figure size 1000x600 with 1 Axes>"
      ]
     },
     "metadata": {},
     "output_type": "display_data"
    }
   ],
   "source": [
    "from src.graph import plot_log_distribution\n",
    "plot_log_distribution(df, 'Prix')"
   ]
  },
  {
   "cell_type": "markdown",
   "metadata": {},
   "source": [
    "Le graphique représente la distribution logarithmique des prix des ordinateurs portables, permettant une meilleure visualisation des données initialement asymétriques. La distribution semble montrer une forme unimodale avec un seul pic autour de 5.5 en logarithme. \n",
    "Cette concentration autour de 5.5 suggère qu'une grande partie des ordinateurs portables se situe dans une gamme de prix cohérente après transformation. \n",
    "Toutefois la présence d'une queue gauche ressérée suggère qu'il y a peu d'ordinateurs dans des gammes de prix très basses tandis que la queue droite étendue pourrait suggérer la présence de modèles haut de gamme tirant les prix vers le haut. "
   ]
  },
  {
   "cell_type": "markdown",
   "metadata": {},
   "source": [
    "Maintenant que nous savons que les prix sont assez cohérents et concentrés autour d'une valeur nous pouvons essayer de déterminer l'influence des différents facteurs sur le prix."
   ]
  },
  {
   "cell_type": "markdown",
   "metadata": {},
   "source": [
    "## **5. Modélisation**"
   ]
  }
 ],
 "metadata": {
  "kernelspec": {
   "display_name": "Python 3",
   "language": "python",
   "name": "python3"
  },
  "language_info": {
   "codemirror_mode": {
    "name": "ipython",
    "version": 3
   },
   "file_extension": ".py",
   "mimetype": "text/x-python",
   "name": "python",
   "nbconvert_exporter": "python",
   "pygments_lexer": "ipython3",
   "version": "3.12.1"
  }
 },
 "nbformat": 4,
 "nbformat_minor": 2
}
